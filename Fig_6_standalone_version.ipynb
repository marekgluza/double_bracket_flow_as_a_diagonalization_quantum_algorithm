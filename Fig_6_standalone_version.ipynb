{
 "cells": [
  {
   "cell_type": "code",
   "execution_count": null,
   "metadata": {
    "colab": {
     "base_uri": "https://localhost:8080/"
    },
    "id": "xzA4ZPa7keu8",
    "outputId": "19565452-0a26-4706-8517-1d689eb8ec8d"
   },
   "outputs": [],
   "source": [
    "#!pip install simple_exact_diagonalization_routines\n",
    "from simple_exact_diagonalization_routines.local_matrix_class import *\n",
    "from scipy.linalg import expm\n",
    "import matplotlib.pyplot as plt\n",
    "\n",
    "# System size\n",
    "L = 9\n",
    "\n",
    "# Create objects of Pauli operators\n",
    "X = X_class(L)\n",
    "Y = Y_class(L)\n",
    "Z = Z_class(L)\n",
    "S_plus = S_plus_class(L)\n",
    "S_minus = S_minus_class(L)\n",
    "\n",
    "# Trivial initialization of the right size matrix\n",
    "H_TFIM = 0*np.eye( 2**L )\n",
    "\n",
    "for x in range(L-1):\n",
    "    H_TFIM = H_TFIM + 2*X.at(x+1).dot(X.at(x+2)) + Z.at(x+1)\n",
    "H_TFIM = H_TFIM + Z.at(L)\n",
    "\n",
    "# Trivial initialization of the right size matrix\n",
    "hamiltonian_name = \"TLFIM_L_\" +str(L)\n",
    "H_TLFIM = 0*np.eye( 2**L )\n",
    "\n",
    "for x in range(L-1):\n",
    "    H_TLFIM = H_TLFIM + 2*X.at(x+1).dot(X.at(x+2)) + Z.at(x+1)+ X.at(x+1)\n",
    "H_TLFIM = H_TLFIM + Z.at(L)    + X.at(L)"
   ]
  },
  {
   "cell_type": "code",
   "execution_count": null,
   "metadata": {
    "id": "FGYYapupkpSR"
   },
   "outputs": [],
   "source": [
    "class helpers:\n",
    "    @staticmethod\n",
    "    def commutator( A, B ):\n",
    "            return A.dot( B ) - B.dot( A )\n",
    "\n",
    "    @staticmethod\n",
    "    def delta( A ):\n",
    "        return np.diag( A.diagonal() )\n",
    "\n",
    "    @staticmethod\n",
    "    def sigma( A ):\n",
    "        return A - helpers.delta( A )\n",
    "    @staticmethod\n",
    "    def GWW_dbr( s, H ):\n",
    "      from scipy.linalg import expm\n",
    "      V = expm( s* helpers.commutator( helpers.delta( H), H))\n",
    "      return V.dot( H.dot( V.T.conj() ) )\n",
    "\n",
    "    def run_param_rc( self, fontsize = 30):\n",
    "        import matplotlib.pyplot as plt\n",
    "        plt.rcParams['axes.labelsize'] = fontsize\n",
    "        plt.rcParams['axes.titlesize'] = fontsize\n",
    "        plt.rcParams['font.size'] = fontsize\n",
    "        #set_matplotlib_formats('pdf', 'png')\n",
    "        plt.rcParams['savefig.dpi'] = 75\n",
    "        plt.rcParams['lines.linewidth'] = 2.0\n",
    "        plt.rcParams['lines.markersize'] = 8\n",
    "        plt.rcParams['legend.fontsize'] = 12\n",
    "        plt.rcParams['legend.labelspacing'] = .3\n",
    "        plt.rcParams['legend.columnspacing']= .3\n",
    "        plt.rcParams['legend.handletextpad']= .1\n",
    "        plt.rcParams['text.usetex'] = True\n",
    "        plt.rcParams['font.family'] = \"serif\"\n",
    "        plt.rcParams['font.serif'] = \"cm\"\n",
    "flow = helpers()\n",
    "flow.run_param_rc(fontsize=15)\n"
   ]
  },
  {
   "cell_type": "code",
   "execution_count": null,
   "metadata": {
    "id": "ywYwDkWgk7GJ"
   },
   "outputs": [],
   "source": [
    "norms_sigma_GC = []\n",
    "norms_sigma_GWW = []\n",
    "norms_sigma_GC2 = []\n",
    "norms_sigma_GC3 = []\n",
    "flow_times = np.linspace(0.001,.12,35)\n",
    "for i,s in enumerate(flow_times):\n",
    "\n",
    "    sp = np.sqrt(s)\n",
    "    V_d = expm( 1j*sp*flow.delta( H_TFIM) )\n",
    "    V_H = expm( 1j*sp* H_TFIM)\n",
    "    V_GC = V_d.dot(V_H).dot(V_d.conj().T).dot(V_H.conj().T)\n",
    "    H_s = V_GC.conj().T.dot(H_TFIM).dot(V_GC)\n",
    "\n",
    "    sp = np.sqrt(s/2)\n",
    "    V_d = expm( 1j*(sp*flow.delta( H_TFIM)).real )\n",
    "    V_H = expm( 1j*(sp* H_TFIM).real)\n",
    "    V_GC = V_d.dot(V_H).dot(V_d.conj().T).dot(V_H.conj().T)\n",
    "    V_GC2 = V_GC.dot(V_GC)\n",
    "\n",
    "    H_s2 = V_GC2.conj().T.dot(H_TFIM).dot(V_GC2)\n",
    "    sp = np.sqrt(s/4)\n",
    "    V_d = expm( 1j*sp*flow.delta( H_TFIM) )\n",
    "    V_H = expm( 1j*sp* H_TFIM)\n",
    "\n",
    "    V_GC = V_d.dot(V_H).dot(V_d.conj().T).dot(V_H.conj().T)\n",
    "    V_GC4 = V_GC.dot(V_GC).dot(V_GC).dot(V_GC)\n",
    "\n",
    "\n",
    "    H_s3 = V_GC4.conj().T.dot(H_TFIM).dot(V_GC4)\n",
    "    norms_sigma_GC.append(np.linalg.norm(flow.sigma(H_s)))\n",
    "    norms_sigma_GC2.append(np.linalg.norm(flow.sigma(H_s2)))\n",
    "    norms_sigma_GC3.append(np.linalg.norm(flow.sigma(H_s3)))\n",
    "\n",
    "    norms_sigma_GWW.append(np.linalg.norm(flow.sigma(flow.GWW_dbr(s, H=H_TFIM))))"
   ]
  },
  {
   "cell_type": "code",
   "execution_count": null,
   "metadata": {
    "colab": {
     "base_uri": "https://localhost:8080/",
     "height": 397
    },
    "id": "HMl4LpKHk-6D",
    "outputId": "36c50584-2579-4235-ed67-6eb516dfb6d6"
   },
   "outputs": [],
   "source": [
    "\n",
    "f=plt.figure(figsize = ( 6,4 ))\n",
    "plt.plot(flow_times,norms_sigma_GWW, label=r'$ e^{-s\\hat W}$')\n",
    "plt.plot(flow_times,norms_sigma_GC, label=r'$\\hat V^{\\mathrm{(GC)}}_{\\sqrt{s}}$')\n",
    "plt.plot(flow_times,norms_sigma_GC2, label=r'$\\biggl(\\hat V^{\\mathrm{(GC)}}_{\\sqrt{s/2}}\\biggr)^2$')\n",
    "plt.plot(flow_times, norms_sigma_GC3, label=r'$\\biggl(\\hat V^{\\mathrm{(GC)}}_{\\sqrt{s/4}}\\biggr)^4$')\n",
    "plt.legend(loc=\"best\")\n",
    "plt.xlabel(r'DBI rotation duration $s$')\n",
    "plt.title(r'Norm off-diagonal restriction $\\vert\\vert\\sigma(\\hat H_0(s))\\vert\\vert_\\mathrm{HS}$')\n",
    "\n",
    "norm_mins = [norms_sigma_GC[0],min(norms_sigma_GWW),min(norms_sigma_GC),min(norms_sigma_GC2),min(norms_sigma_GC3)]\n",
    "y_labels_rounded = [ round(y, 1 ) for y in norm_mins ]\n",
    "plt.grid()\n",
    "plt.yticks(y_labels_rounded)\n",
    "save_path = 'Fig_more_steps_L_'+str(L)+'.pdf'\n",
    "plt.rcParams[\"figure.figsize\"] = [80, 3.50]\n",
    "plt.rcParams[\"figure.autolayout\"] = True\n",
    "plt.savefig( save_path, format='pdf')\n",
    "plt.show()\n"
   ]
  },
  {
   "cell_type": "code",
   "execution_count": null,
   "metadata": {},
   "outputs": [],
   "source": []
  },
  {
   "cell_type": "code",
   "execution_count": null,
   "metadata": {},
   "outputs": [],
   "source": []
  },
  {
   "cell_type": "code",
   "execution_count": null,
   "metadata": {},
   "outputs": [],
   "source": []
  }
 ],
 "metadata": {
  "colab": {
   "provenance": []
  },
  "kernelspec": {
   "display_name": "Python 3 (ipykernel)",
   "language": "python",
   "name": "python3"
  },
  "language_info": {
   "codemirror_mode": {
    "name": "ipython",
    "version": 3
   },
   "file_extension": ".py",
   "mimetype": "text/x-python",
   "name": "python",
   "nbconvert_exporter": "python",
   "pygments_lexer": "ipython3",
   "version": "3.10.12"
  }
 },
 "nbformat": 4,
 "nbformat_minor": 1
}
